{
 "cells": [
  {
   "cell_type": "markdown",
   "id": "62b79375-531b-4bf4-9e10-f3532f45adf6",
   "metadata": {},
   "source": [
    "# 1 Hello World!"
   ]
  },
  {
   "cell_type": "code",
   "execution_count": 92,
   "id": "11abb8d6-c4d7-4267-9b67-5dcfc10a4241",
   "metadata": {
    "scrolled": true
   },
   "outputs": [
    {
     "name": "stdout",
     "output_type": "stream",
     "text": [
      "Hello World\n"
     ]
    }
   ],
   "source": [
    "#Print a message\n",
    "print(\"Hello World\")"
   ]
  },
  {
   "cell_type": "markdown",
   "id": "c117d093-4a7d-4cac-903b-aae4e427f471",
   "metadata": {},
   "source": [
    "# 2 Data Types"
   ]
  },
  {
   "cell_type": "code",
   "execution_count": 9,
   "id": "c084134b-a712-4a56-820a-db5ba704fb55",
   "metadata": {},
   "outputs": [
    {
     "data": {
      "text/plain": [
       "int"
      ]
     },
     "execution_count": 9,
     "metadata": {},
     "output_type": "execute_result"
    }
   ],
   "source": [
    "#Know Data Type\n",
    "type(1)"
   ]
  },
  {
   "cell_type": "code",
   "execution_count": 10,
   "id": "77e93473-a7cc-4454-bdb1-11320451c46f",
   "metadata": {},
   "outputs": [
    {
     "data": {
      "text/plain": [
       "float"
      ]
     },
     "execution_count": 10,
     "metadata": {},
     "output_type": "execute_result"
    }
   ],
   "source": [
    "type(2.4)"
   ]
  },
  {
   "cell_type": "code",
   "execution_count": 13,
   "id": "cf2abc1e-964d-4709-907f-b96e25ff909a",
   "metadata": {},
   "outputs": [
    {
     "data": {
      "text/plain": [
       "bool"
      ]
     },
     "execution_count": 13,
     "metadata": {},
     "output_type": "execute_result"
    }
   ],
   "source": [
    "type(True)"
   ]
  },
  {
   "cell_type": "code",
   "execution_count": 14,
   "id": "eebe30af-4e6f-44dc-8ea2-8103f7dca311",
   "metadata": {},
   "outputs": [
    {
     "data": {
      "text/plain": [
       "str"
      ]
     },
     "execution_count": 14,
     "metadata": {},
     "output_type": "execute_result"
    }
   ],
   "source": [
    "type(\"Hello World\")"
   ]
  },
  {
   "cell_type": "code",
   "execution_count": 16,
   "id": "6409fc29-e75c-4039-88f1-59b72b1d2344",
   "metadata": {},
   "outputs": [
    {
     "name": "stdout",
     "output_type": "stream",
     "text": [
      "HELLO WORLD\n",
      "hello world\n",
      "Hello World\n"
     ]
    }
   ],
   "source": [
    "print(\"Hello World\".upper())\n",
    "print(\"Hello World\".lower())\n",
    "print(\"Hello World\".title())"
   ]
  },
  {
   "cell_type": "code",
   "execution_count": 18,
   "id": "70ae5cce-8323-47da-9e2e-abe9d9c72203",
   "metadata": {},
   "outputs": [
    {
     "name": "stdout",
     "output_type": "stream",
     "text": [
      "Hellu Wurld\n"
     ]
    }
   ],
   "source": [
    "print(\"Hello World\".replace('o','u'))"
   ]
  },
  {
   "cell_type": "code",
   "execution_count": 20,
   "id": "e0c62f45-bd28-4c7c-b587-ba548c8d8b7b",
   "metadata": {},
   "outputs": [
    {
     "data": {
      "text/plain": [
       "3"
      ]
     },
     "execution_count": 20,
     "metadata": {},
     "output_type": "execute_result"
    }
   ],
   "source": [
    "\"Hello World\".count('l')"
   ]
  },
  {
   "cell_type": "markdown",
   "id": "6318f65b-4474-4850-8efb-8f0e4f4f62b9",
   "metadata": {},
   "source": [
    "# 3 Variable"
   ]
  },
  {
   "cell_type": "code",
   "execution_count": 28,
   "id": "1b806a86-7bb1-4280-8222-56b2abb71e86",
   "metadata": {},
   "outputs": [
    {
     "data": {
      "text/plain": [
       "\"I'm Learning Pyhton\""
      ]
     },
     "execution_count": 28,
     "metadata": {},
     "output_type": "execute_result"
    }
   ],
   "source": [
    "message_1 = \"I'm Learning Pyhton\"\n",
    "message_1"
   ]
  },
  {
   "cell_type": "code",
   "execution_count": 34,
   "id": "4e08c63f-08c3-446a-acec-b8f6e663f818",
   "metadata": {},
   "outputs": [
    {
     "data": {
      "text/plain": [
       "\"and it's Funny\""
      ]
     },
     "execution_count": 34,
     "metadata": {},
     "output_type": "execute_result"
    }
   ],
   "source": [
    "message_2 = \"and it's Funny\"\n",
    "message_2"
   ]
  },
  {
   "cell_type": "code",
   "execution_count": 35,
   "id": "579786e2-bd13-456b-9322-3db111e23f4c",
   "metadata": {},
   "outputs": [
    {
     "data": {
      "text/plain": [
       "\"I'm Learning Pyhton and it's Funny\""
      ]
     },
     "execution_count": 35,
     "metadata": {},
     "output_type": "execute_result"
    }
   ],
   "source": [
    "message_1 + \" \" +message_2"
   ]
  },
  {
   "cell_type": "code",
   "execution_count": 37,
   "id": "d569a3f9-e7e8-40be-a61d-ac483f3766c8",
   "metadata": {},
   "outputs": [
    {
     "data": {
      "text/plain": [
       "\"I'm Learning Pyhton Ok\""
      ]
     },
     "execution_count": 37,
     "metadata": {},
     "output_type": "execute_result"
    }
   ],
   "source": [
    "#Combine text with variables\n",
    "f'{message_1} Ok'"
   ]
  },
  {
   "cell_type": "markdown",
   "id": "8376be5b-73b0-492d-b329-198d86f23197",
   "metadata": {},
   "source": [
    "# 4 Lists"
   ]
  },
  {
   "cell_type": "code",
   "execution_count": 83,
   "id": "9808ec04-a717-48e1-9985-bb702682dcda",
   "metadata": {},
   "outputs": [
    {
     "data": {
      "text/plain": [
       "'United States'"
      ]
     },
     "execution_count": 83,
     "metadata": {},
     "output_type": "execute_result"
    }
   ],
   "source": [
    "countries = [\"United States\",\"India\",\"Brazil\",\"Argentina\"]\n",
    "countries[0]"
   ]
  },
  {
   "cell_type": "markdown",
   "id": "4f2fc008-7c9a-4e57-901d-ee4cf3294d20",
   "metadata": {},
   "source": [
    "## 4.1 Slicing"
   ]
  },
  {
   "cell_type": "code",
   "execution_count": 47,
   "id": "87fc096f-c098-4521-8be1-a969288503d9",
   "metadata": {},
   "outputs": [
    {
     "data": {
      "text/plain": [
       "['United States']"
      ]
     },
     "execution_count": 47,
     "metadata": {},
     "output_type": "execute_result"
    }
   ],
   "source": [
    "#Get a slice of a list\n",
    "countries[0:1]"
   ]
  },
  {
   "cell_type": "code",
   "execution_count": 50,
   "id": "5e2efc02-3320-4f6e-9dd9-e9b700efa5cc",
   "metadata": {},
   "outputs": [
    {
     "data": {
      "text/plain": [
       "['Brazil', 'Argentina']"
      ]
     },
     "execution_count": 50,
     "metadata": {},
     "output_type": "execute_result"
    }
   ],
   "source": [
    "#Get from index to last item\n",
    "countries[2:]"
   ]
  },
  {
   "cell_type": "markdown",
   "id": "3d6659c0-d893-48b1-a3c2-b6db606119e9",
   "metadata": {},
   "source": [
    "## 4.2 Add Items"
   ]
  },
  {
   "cell_type": "code",
   "execution_count": 84,
   "id": "1a74b938-4ba1-4456-8832-ff096157a944",
   "metadata": {},
   "outputs": [
    {
     "data": {
      "text/plain": [
       "['United States', 'India', 'Brazil', 'Argentina', 'Colombia']"
      ]
     },
     "execution_count": 84,
     "metadata": {},
     "output_type": "execute_result"
    }
   ],
   "source": [
    "#Add item at the end\n",
    "countries.append(\"Colombia\")\n",
    "countries"
   ]
  },
  {
   "cell_type": "code",
   "execution_count": 77,
   "id": "e82faa4f-8dc5-4958-a3ee-1bcce637546b",
   "metadata": {},
   "outputs": [
    {
     "data": {
      "text/plain": [
       "['United States', 'India', 'Ecuador', 'Brazil', 'Argentina', 'Colombia']"
      ]
     },
     "execution_count": 77,
     "metadata": {},
     "output_type": "execute_result"
    }
   ],
   "source": [
    "#Add item in specific index\n",
    "countries.insert(2,\"Ecuador\")\n",
    "countries"
   ]
  },
  {
   "cell_type": "code",
   "execution_count": 63,
   "id": "809d69cf-570d-483d-b1d1-6dffc607cd7c",
   "metadata": {},
   "outputs": [
    {
     "data": {
      "text/plain": [
       "['UK', 'Spain', 'France']"
      ]
     },
     "execution_count": 63,
     "metadata": {},
     "output_type": "execute_result"
    }
   ],
   "source": [
    "countries_2 = [\"UK\",\"Spain\",\"France\"]\n",
    "countries_2"
   ]
  },
  {
   "cell_type": "code",
   "execution_count": 65,
   "id": "47b6c703-3044-4bb7-9541-eae59d66a8d9",
   "metadata": {},
   "outputs": [
    {
     "data": {
      "text/plain": [
       "[['United States', 'India', 'Ecuador', 'Brazil', 'Argentina', 'Colombia'],\n",
       " ['UK', 'Spain', 'France']]"
      ]
     },
     "execution_count": 65,
     "metadata": {},
     "output_type": "execute_result"
    }
   ],
   "source": [
    "#Listas anidadas\n",
    "new_list = [countries,countries_2]\n",
    "new_list"
   ]
  },
  {
   "cell_type": "markdown",
   "id": "4944f823-c3c3-4e13-bf5a-a86a1b8a7fdc",
   "metadata": {},
   "source": [
    "## 4.3 Delete Items"
   ]
  },
  {
   "cell_type": "code",
   "execution_count": 85,
   "id": "09977032-68ba-4335-9e04-9879c5268a41",
   "metadata": {},
   "outputs": [
    {
     "data": {
      "text/plain": [
       "['United States', 'India', 'Brazil', 'Argentina']"
      ]
     },
     "execution_count": 85,
     "metadata": {},
     "output_type": "execute_result"
    }
   ],
   "source": [
    "countries.remove(\"Colombia\")\n",
    "countries"
   ]
  },
  {
   "cell_type": "code",
   "execution_count": 79,
   "id": "a7a415e3-3eae-4950-ad8e-84c348bf44cd",
   "metadata": {},
   "outputs": [
    {
     "data": {
      "text/plain": [
       "['India', 'Ecuador', 'Brazil', 'Argentina']"
      ]
     },
     "execution_count": 79,
     "metadata": {},
     "output_type": "execute_result"
    }
   ],
   "source": [
    "countries.pop(0)\n",
    "countries"
   ]
  },
  {
   "cell_type": "code",
   "execution_count": 80,
   "id": "ef6de07a-7e3e-4a14-bdb1-212143784ab2",
   "metadata": {},
   "outputs": [
    {
     "data": {
      "text/plain": [
       "['Ecuador', 'Brazil', 'Argentina']"
      ]
     },
     "execution_count": 80,
     "metadata": {},
     "output_type": "execute_result"
    }
   ],
   "source": [
    "del countries[0]\n",
    "countries"
   ]
  },
  {
   "cell_type": "markdown",
   "id": "a701e329-db8e-4902-b4f5-c4c28620830d",
   "metadata": {},
   "source": [
    "## 4.4 Order Lists"
   ]
  },
  {
   "cell_type": "code",
   "execution_count": 86,
   "id": "0b9d3bc9-c89f-47ac-983f-f31e0d4e6fc9",
   "metadata": {},
   "outputs": [
    {
     "data": {
      "text/plain": [
       "[4, 2, 7, 1, 9]"
      ]
     },
     "execution_count": 86,
     "metadata": {},
     "output_type": "execute_result"
    }
   ],
   "source": [
    "numbers = [4,2,7,1,9]\n",
    "numbers"
   ]
  },
  {
   "cell_type": "code",
   "execution_count": 89,
   "id": "49c3fcba-7803-4b6e-a6c5-238e8fa01e9c",
   "metadata": {},
   "outputs": [
    {
     "data": {
      "text/plain": [
       "[1, 2, 4, 7, 9]"
      ]
     },
     "execution_count": 89,
     "metadata": {},
     "output_type": "execute_result"
    }
   ],
   "source": [
    "#ascending\n",
    "numbers.sort()\n",
    "numbers"
   ]
  },
  {
   "cell_type": "code",
   "execution_count": 91,
   "id": "3c033352-3311-434c-8832-5e9c1be6c05f",
   "metadata": {},
   "outputs": [
    {
     "data": {
      "text/plain": [
       "[9, 7, 4, 2, 1]"
      ]
     },
     "execution_count": 91,
     "metadata": {},
     "output_type": "execute_result"
    }
   ],
   "source": [
    "#descending\n",
    "numbers.sort(reverse=True)\n",
    "numbers"
   ]
  },
  {
   "cell_type": "markdown",
   "id": "a17f47ed-f18d-4a68-92a3-3f8a2032877a",
   "metadata": {},
   "source": [
    "## 4.5 Copy lists"
   ]
  },
  {
   "cell_type": "code",
   "execution_count": 93,
   "id": "6febd06a-b674-44e1-aa19-5d9b9921cb9a",
   "metadata": {},
   "outputs": [
    {
     "data": {
      "text/plain": [
       "['United States', 'India', 'Brazil', 'Argentina']"
      ]
     },
     "execution_count": 93,
     "metadata": {},
     "output_type": "execute_result"
    }
   ],
   "source": [
    "new_list = countries.copy()\n",
    "new_list"
   ]
  },
  {
   "cell_type": "code",
   "execution_count": 94,
   "id": "a977f73f-fdf0-4307-99b1-459f328b2eaa",
   "metadata": {},
   "outputs": [
    {
     "data": {
      "text/plain": [
       "['India', 'Brazil']"
      ]
     },
     "execution_count": 94,
     "metadata": {},
     "output_type": "execute_result"
    }
   ],
   "source": [
    "#other way using slicing\n",
    "new_list = countries[1:3]\n",
    "new_list"
   ]
  },
  {
   "cell_type": "markdown",
   "id": "f62084fc-b5ae-4925-a2de-cebbab0f6a34",
   "metadata": {},
   "source": [
    "# 5 Dictionary"
   ]
  },
  {
   "cell_type": "code",
   "execution_count": 98,
   "id": "42f6430b-c04a-48cc-96e2-847b0ebc912a",
   "metadata": {},
   "outputs": [
    {
     "data": {
      "text/plain": [
       "{'name': 'Max', 'lastname': 'Verstappen'}"
      ]
     },
     "execution_count": 98,
     "metadata": {},
     "output_type": "execute_result"
    }
   ],
   "source": [
    "my_dictionary = {'name':'Max','lastname':'Verstappen'}\n",
    "my_dictionary"
   ]
  },
  {
   "cell_type": "code",
   "execution_count": 99,
   "id": "9ea4f892-c421-471a-8762-3897aa026302",
   "metadata": {},
   "outputs": [
    {
     "data": {
      "text/plain": [
       "'Max'"
      ]
     },
     "execution_count": 99,
     "metadata": {},
     "output_type": "execute_result"
    }
   ],
   "source": [
    "my_dictionary['name']"
   ]
  },
  {
   "cell_type": "code",
   "execution_count": 102,
   "id": "4e56cb26-06ea-4034-9406-c050f2ee10b8",
   "metadata": {},
   "outputs": [
    {
     "data": {
      "text/plain": [
       "dict_keys(['name', 'lastname'])"
      ]
     },
     "execution_count": 102,
     "metadata": {},
     "output_type": "execute_result"
    }
   ],
   "source": [
    "#Get Keys\n",
    "my_dictionary.keys()"
   ]
  },
  {
   "cell_type": "code",
   "execution_count": 103,
   "id": "f3cfbdd9-e04d-43d6-beb7-3ee2f3cd0103",
   "metadata": {},
   "outputs": [
    {
     "data": {
      "text/plain": [
       "dict_values(['Max', 'Verstappen'])"
      ]
     },
     "execution_count": 103,
     "metadata": {},
     "output_type": "execute_result"
    }
   ],
   "source": [
    "#Get Values\n",
    "my_dictionary.values()"
   ]
  },
  {
   "cell_type": "code",
   "execution_count": 104,
   "id": "73b13e20-f83f-4b72-b5df-837406d997c6",
   "metadata": {},
   "outputs": [
    {
     "data": {
      "text/plain": [
       "dict_items([('name', 'Max'), ('lastname', 'Verstappen')])"
      ]
     },
     "execution_count": 104,
     "metadata": {},
     "output_type": "execute_result"
    }
   ],
   "source": [
    "my_dictionary.items()"
   ]
  },
  {
   "cell_type": "markdown",
   "id": "c9b68a24-4a24-4d55-8009-61d2563e228e",
   "metadata": {},
   "source": [
    "## 5.1 Add/Update Items"
   ]
  },
  {
   "cell_type": "code",
   "execution_count": 106,
   "id": "9eaf8131-6258-4837-8b69-81cc97d401b1",
   "metadata": {},
   "outputs": [
    {
     "data": {
      "text/plain": [
       "{'name': 'Max', 'lastname': 'Verstappen', 'weight': 180}"
      ]
     },
     "execution_count": 106,
     "metadata": {},
     "output_type": "execute_result"
    }
   ],
   "source": [
    "my_dictionary['weight']=180\n",
    "my_dictionary"
   ]
  },
  {
   "cell_type": "code",
   "execution_count": 107,
   "id": "f3a53985-8f78-4466-b33f-80a168ecba02",
   "metadata": {},
   "outputs": [
    {
     "data": {
      "text/plain": [
       "{'name': 'Max',\n",
       " 'lastname': 'Verstappen',\n",
       " 'weight': 190,\n",
       " 'language': ['English', 'Spanish']}"
      ]
     },
     "execution_count": 107,
     "metadata": {},
     "output_type": "execute_result"
    }
   ],
   "source": [
    "my_dictionary.update({'weight':190,'language':['English','Spanish']})\n",
    "my_dictionary"
   ]
  },
  {
   "cell_type": "markdown",
   "id": "23cda8d8-ae3a-4f1e-a1d9-3e7cdc25e6a0",
   "metadata": {},
   "source": [
    "## 5.2 Copy Dictionary"
   ]
  },
  {
   "cell_type": "code",
   "execution_count": 114,
   "id": "a497fabf-070e-420a-b808-f510e001b57f",
   "metadata": {},
   "outputs": [
    {
     "data": {
      "text/plain": [
       "{'name': 'Max',\n",
       " 'lastname': 'Verstappen',\n",
       " 'weight': 190,\n",
       " 'language': ['English', 'Spanish']}"
      ]
     },
     "execution_count": 114,
     "metadata": {},
     "output_type": "execute_result"
    }
   ],
   "source": [
    "new_dictionary = my_dictionary.copy()\n",
    "new_dictionary"
   ]
  },
  {
   "cell_type": "markdown",
   "id": "7985b4e0-c5eb-4833-a17d-d73f81252592",
   "metadata": {},
   "source": [
    "## 5.3 Delete Elements"
   ]
  },
  {
   "cell_type": "code",
   "execution_count": 115,
   "id": "eb7f5a7c-a7d8-4fd5-94c3-960f0972bed4",
   "metadata": {},
   "outputs": [
    {
     "data": {
      "text/plain": [
       "{'name': 'Max', 'lastname': 'Verstappen', 'language': ['English', 'Spanish']}"
      ]
     },
     "execution_count": 115,
     "metadata": {},
     "output_type": "execute_result"
    }
   ],
   "source": [
    "new_dictionary.pop('weight')\n",
    "new_dictionary"
   ]
  },
  {
   "cell_type": "code",
   "execution_count": 116,
   "id": "b1661877-6994-4817-8af2-8eb5537ad2dc",
   "metadata": {},
   "outputs": [
    {
     "data": {
      "text/plain": [
       "{'name': 'Max', 'lastname': 'Verstappen'}"
      ]
     },
     "execution_count": 116,
     "metadata": {},
     "output_type": "execute_result"
    }
   ],
   "source": [
    "del new_dictionary['language']\n",
    "new_dictionary"
   ]
  },
  {
   "cell_type": "code",
   "execution_count": 117,
   "id": "5b04e810-a553-4d0e-b947-a78a0bc686ee",
   "metadata": {},
   "outputs": [
    {
     "data": {
      "text/plain": [
       "{}"
      ]
     },
     "execution_count": 117,
     "metadata": {},
     "output_type": "execute_result"
    }
   ],
   "source": [
    "new_dictionary.clear()\n",
    "new_dictionary"
   ]
  },
  {
   "cell_type": "markdown",
   "id": "618b2ca5-230a-46fc-b627-d263dbf732a8",
   "metadata": {},
   "source": [
    "# 6 IF"
   ]
  },
  {
   "cell_type": "code",
   "execution_count": 130,
   "id": "da724cc1-8f12-460c-950e-baab4741b729",
   "metadata": {},
   "outputs": [
    {
     "name": "stdout",
     "output_type": "stream",
     "text": [
      "You are a teenager\n"
     ]
    }
   ],
   "source": [
    "age = 15\n",
    "if age >= 18:\n",
    "    print(\"You are of legal age\")\n",
    "elif age>= 13:\n",
    "    print(\"You are a teenager\")\n",
    "else:\n",
    "    print(\"You are a kid\")"
   ]
  },
  {
   "cell_type": "code",
   "execution_count": 132,
   "id": "c4907269-49ec-41d4-ad10-3eac9cb04843",
   "metadata": {},
   "outputs": [
    {
     "name": "stdout",
     "output_type": "stream",
     "text": [
      "Country is in the list\n"
     ]
    }
   ],
   "source": [
    "countries = [\"United States\",\"India\",\"Brazil\",\"Argentina\",\"China\"]\n",
    "if \"China\" in countries:\n",
    "    print(\"Country is in the list\")\n",
    "else:\n",
    "    print(\"Country isn't in the list\")"
   ]
  },
  {
   "cell_type": "markdown",
   "id": "d65d1b5f-21fe-4f2d-984f-9bd9915028f4",
   "metadata": {},
   "source": [
    "# 7 For Loop"
   ]
  },
  {
   "cell_type": "code",
   "execution_count": 134,
   "id": "479acc2a-7304-4e32-aa2f-53c26fb0c8fa",
   "metadata": {},
   "outputs": [
    {
     "name": "stdout",
     "output_type": "stream",
     "text": [
      "United States\n",
      "India\n",
      "Brazil\n",
      "Argentina\n",
      "China\n"
     ]
    }
   ],
   "source": [
    "for country in countries:\n",
    "    print(country)"
   ]
  },
  {
   "cell_type": "code",
   "execution_count": 140,
   "id": "cc25c98e-87bf-4bcd-b4c8-513e7872cc8a",
   "metadata": {},
   "outputs": [
    {
     "name": "stdout",
     "output_type": "stream",
     "text": [
      "0: United States\n",
      "1: India\n",
      "2: Brazil\n",
      "3: Argentina\n",
      "4: China\n"
     ]
    }
   ],
   "source": [
    "#Get index with enumerate function\n",
    "for index, country in enumerate(countries):\n",
    "    print(str(index)+\": \"+str(country))"
   ]
  },
  {
   "cell_type": "code",
   "execution_count": 141,
   "id": "96b43116-0982-489b-a5bd-cf6c1bf77840",
   "metadata": {},
   "outputs": [
    {
     "name": "stdout",
     "output_type": "stream",
     "text": [
      "India\n"
     ]
    }
   ],
   "source": [
    "#Combine For with IF\n",
    "for country in countries:\n",
    "    if country == \"India\":\n",
    "        print(country)"
   ]
  },
  {
   "cell_type": "code",
   "execution_count": 145,
   "id": "df975711-cae5-4742-a10d-ba02696f7e01",
   "metadata": {},
   "outputs": [
    {
     "name": "stdout",
     "output_type": "stream",
     "text": [
      "name: Max\n",
      "lastname: Verstappen\n",
      "weight: 190\n",
      "language: ['English', 'Spanish']\n"
     ]
    }
   ],
   "source": [
    "#For with a Dictionary\n",
    "for key, value in my_dictionary.items():\n",
    "    print(str(key)+\": \"+str(value))"
   ]
  },
  {
   "cell_type": "markdown",
   "id": "c66fb9f7-2f44-488e-a733-e415f2f164ae",
   "metadata": {},
   "source": [
    "# 8 Function "
   ]
  },
  {
   "cell_type": "markdown",
   "id": "73001457-bc0f-4b4a-b95f-9eb7e9f7c235",
   "metadata": {},
   "source": [
    "## 8.1 Pre-built Functions"
   ]
  },
  {
   "cell_type": "code",
   "execution_count": 147,
   "id": "47605626-5188-4824-88e2-494a7c097e55",
   "metadata": {},
   "outputs": [
    {
     "data": {
      "text/plain": [
       "5"
      ]
     },
     "execution_count": 147,
     "metadata": {},
     "output_type": "execute_result"
    }
   ],
   "source": [
    "countries = [\"United States\",\"India\",\"Brazil\",\"Argentina\",\"China\"]\n",
    "len(countries)"
   ]
  },
  {
   "cell_type": "code",
   "execution_count": 150,
   "id": "3ee0cf81-f855-4a18-9b9c-b541efc25b26",
   "metadata": {},
   "outputs": [
    {
     "data": {
      "text/plain": [
       "6"
      ]
     },
     "execution_count": 150,
     "metadata": {},
     "output_type": "execute_result"
    }
   ],
   "source": [
    "numbers = [1,2,3,4,5,6]\n",
    "max(numbers)"
   ]
  },
  {
   "cell_type": "code",
   "execution_count": 151,
   "id": "45a4b1b2-1129-4461-9a30-b0922c1f4eed",
   "metadata": {},
   "outputs": [
    {
     "data": {
      "text/plain": [
       "1"
      ]
     },
     "execution_count": 151,
     "metadata": {},
     "output_type": "execute_result"
    }
   ],
   "source": [
    "min(numbers)"
   ]
  },
  {
   "cell_type": "code",
   "execution_count": 154,
   "id": "4adfbef1-177d-4043-8c6e-ea74517c6396",
   "metadata": {},
   "outputs": [
    {
     "data": {
      "text/plain": [
       "2.33"
      ]
     },
     "execution_count": 154,
     "metadata": {},
     "output_type": "execute_result"
    }
   ],
   "source": [
    "round(2.3333,2)"
   ]
  },
  {
   "cell_type": "code",
   "execution_count": 155,
   "id": "54449495-1975-43ed-8d66-43e93780a3e8",
   "metadata": {},
   "outputs": [
    {
     "name": "stdout",
     "output_type": "stream",
     "text": [
      "1\n",
      "3\n",
      "5\n",
      "7\n",
      "9\n"
     ]
    }
   ],
   "source": [
    "for i in range(1,10,2):\n",
    "    print(i)"
   ]
  },
  {
   "cell_type": "markdown",
   "id": "49686f2c-17d3-4e4a-a576-641a6e75a3a0",
   "metadata": {},
   "source": [
    "## 8.2 Create Function"
   ]
  },
  {
   "cell_type": "code",
   "execution_count": 156,
   "id": "3954274f-db3d-4337-82dd-f71c5eab9735",
   "metadata": {},
   "outputs": [],
   "source": [
    "def sum(a,b):\n",
    "    result = a+b\n",
    "    return result"
   ]
  },
  {
   "cell_type": "code",
   "execution_count": 158,
   "id": "d4356eec-35a2-4393-b36e-f3f4fa236e83",
   "metadata": {},
   "outputs": [
    {
     "data": {
      "text/plain": [
       "10"
      ]
     },
     "execution_count": 158,
     "metadata": {},
     "output_type": "execute_result"
    }
   ],
   "source": [
    "sum(7,3)"
   ]
  },
  {
   "cell_type": "markdown",
   "id": "a55a04e1-29ee-4324-bf97-6d0deffcd868",
   "metadata": {},
   "source": [
    "# 9 Modules"
   ]
  },
  {
   "cell_type": "markdown",
   "id": "6744d392-8344-47db-be98-cdbe819a2928",
   "metadata": {},
   "source": [
    "## 9.1 Module OS"
   ]
  },
  {
   "cell_type": "code",
   "execution_count": 159,
   "id": "16c39ef8-b27a-4b8a-b384-8e49275eb790",
   "metadata": {},
   "outputs": [],
   "source": [
    "import os"
   ]
  },
  {
   "cell_type": "code",
   "execution_count": 160,
   "id": "43b5d4b9-0ef4-4f05-a24a-732f98226d6e",
   "metadata": {},
   "outputs": [
    {
     "data": {
      "text/plain": [
       "'/Users/maxparra/maxparra-architecture/python-for-datascience'"
      ]
     },
     "execution_count": 160,
     "metadata": {},
     "output_type": "execute_result"
    }
   ],
   "source": [
    "#Get current location\n",
    "os.getcwd()"
   ]
  },
  {
   "cell_type": "code",
   "execution_count": 165,
   "id": "1ebcf769-40c6-4fdb-8894-ad99135b8e05",
   "metadata": {},
   "outputs": [
    {
     "data": {
      "text/plain": [
       "['Nueva Carpeta',\n",
       " 'LICENSE',\n",
       " '1.Basis.ipynb',\n",
       " 'README.md',\n",
       " '.gitignore',\n",
       " '.ipynb_checkpoints',\n",
       " '.git']"
      ]
     },
     "execution_count": 165,
     "metadata": {},
     "output_type": "execute_result"
    }
   ],
   "source": [
    "#List files\n",
    "os.listdir()"
   ]
  },
  {
   "cell_type": "code",
   "execution_count": 163,
   "id": "7a58b479-6389-4077-9a15-d108f1ad3810",
   "metadata": {},
   "outputs": [],
   "source": [
    "os.makedirs(\"Nueva Carpeta\")"
   ]
  }
 ],
 "metadata": {
  "kernelspec": {
   "display_name": "Python 3 (ipykernel)",
   "language": "python",
   "name": "python3"
  },
  "language_info": {
   "codemirror_mode": {
    "name": "ipython",
    "version": 3
   },
   "file_extension": ".py",
   "mimetype": "text/x-python",
   "name": "python",
   "nbconvert_exporter": "python",
   "pygments_lexer": "ipython3",
   "version": "3.11.7"
  }
 },
 "nbformat": 4,
 "nbformat_minor": 5
}
